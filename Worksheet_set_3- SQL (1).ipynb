{
 "cells": [
  {
   "cell_type": "markdown",
   "id": "1f8d7326",
   "metadata": {},
   "source": [
    "# SQL WORKSHEET\n"
   ]
  },
  {
   "cell_type": "markdown",
   "id": "323109ae",
   "metadata": {},
   "source": [
    "#### Created by VISHAL\n"
   ]
  },
  {
   "cell_type": "code",
   "execution_count": 2,
   "id": "58c31baf",
   "metadata": {},
   "outputs": [],
   "source": [
    "import sqlite3"
   ]
  },
  {
   "cell_type": "code",
   "execution_count": 3,
   "id": "63397021",
   "metadata": {},
   "outputs": [],
   "source": [
    "#object\n",
    "\n",
    "db=sqlite3.connect('Company_database.db')"
   ]
  },
  {
   "cell_type": "code",
   "execution_count": 4,
   "id": "b50290c1",
   "metadata": {},
   "outputs": [],
   "source": [
    "#creating cursor\n",
    "\n",
    "cur=db.cursor()\n"
   ]
  },
  {
   "cell_type": "markdown",
   "id": "be37e685",
   "metadata": {},
   "source": [
    "## SQL query to create table Customers.\n"
   ]
  },
  {
   "cell_type": "code",
   "execution_count": 5,
   "id": "a7540fc1",
   "metadata": {},
   "outputs": [
    {
     "data": {
      "text/plain": [
       "<sqlite3.Cursor at 0x1e7565b7f80>"
      ]
     },
     "execution_count": 5,
     "metadata": {},
     "output_type": "execute_result"
    }
   ],
   "source": [
    "cur.execute(\"create table Customers (customerNumber int primary key,customerName text,contactLastName text,contactFirstName text,phone int,addressLine1 text,addressLine2 text,city text,state text,postalCode int,country text,salesRepEmployeeNumber int,creditLimit int)\")\n"
   ]
  },
  {
   "cell_type": "markdown",
   "id": "d63703f1",
   "metadata": {},
   "source": [
    "## SQL query to create table Orders.\n"
   ]
  },
  {
   "cell_type": "code",
   "execution_count": 6,
   "id": "645320fc",
   "metadata": {},
   "outputs": [
    {
     "data": {
      "text/plain": [
       "<sqlite3.Cursor at 0x1e7565b7f80>"
      ]
     },
     "execution_count": 6,
     "metadata": {},
     "output_type": "execute_result"
    }
   ],
   "source": [
    "cur.execute(\"create table Orders (orderNumber int primary key,orderDate date,requiredDate date,shippedDate date,status text,comments text,customerNumber int)\")\n"
   ]
  },
  {
   "cell_type": "markdown",
   "id": "d0f59292",
   "metadata": {},
   "source": [
    "## SQL query to show all the columns data from the Orders Table.\n"
   ]
  },
  {
   "cell_type": "code",
   "execution_count": 7,
   "id": "f0b90419",
   "metadata": {},
   "outputs": [
    {
     "data": {
      "text/plain": [
       "[]"
      ]
     },
     "execution_count": 7,
     "metadata": {},
     "output_type": "execute_result"
    }
   ],
   "source": [
    "results=cur.execute(\"select * from Orders\")\n",
    "results.fetchall()"
   ]
  },
  {
   "cell_type": "markdown",
   "id": "345c13a2",
   "metadata": {},
   "source": [
    "## SQL query to show all the comments from the Orders Table.\n"
   ]
  },
  {
   "cell_type": "code",
   "execution_count": 8,
   "id": "f1dfff3b",
   "metadata": {},
   "outputs": [
    {
     "data": {
      "text/plain": [
       "[]"
      ]
     },
     "execution_count": 8,
     "metadata": {},
     "output_type": "execute_result"
    }
   ],
   "source": [
    "results=cur.execute('select comments from Orders')\n",
    "results.fetchall()"
   ]
  },
  {
   "cell_type": "markdown",
   "id": "0a734506",
   "metadata": {},
   "source": [
    "## SQL query to show orderDate and Total number of orders placed on that date, from Orders table.\n"
   ]
  },
  {
   "cell_type": "code",
   "execution_count": 9,
   "id": "d0380b8e",
   "metadata": {},
   "outputs": [
    {
     "data": {
      "text/plain": [
       "[(None, 0)]"
      ]
     },
     "execution_count": 9,
     "metadata": {},
     "output_type": "execute_result"
    }
   ],
   "source": [
    "results=cur.execute(\"select orderDate,count(orderNumber) from Orders where orderDate='2022-03-25'\")\n",
    "results.fetchall()"
   ]
  },
  {
   "cell_type": "markdown",
   "id": "c6a4005f",
   "metadata": {},
   "source": [
    "## SQL query to show employeNumber, lastName, firstName of all the employees from employees table\n"
   ]
  },
  {
   "cell_type": "code",
   "execution_count": 10,
   "id": "ef9bb48a",
   "metadata": {},
   "outputs": [
    {
     "data": {
      "text/plain": [
       "<sqlite3.Cursor at 0x1e7565b7f80>"
      ]
     },
     "execution_count": 10,
     "metadata": {},
     "output_type": "execute_result"
    }
   ],
   "source": [
    "cur.execute(\"create table Employees (employeeNumber int primary key,lastName text,firstName text,extension int,email text,officeCode int,reportsTo text,jobTitle text)\")\n"
   ]
  },
  {
   "cell_type": "code",
   "execution_count": 11,
   "id": "84051b2e",
   "metadata": {},
   "outputs": [
    {
     "data": {
      "text/plain": [
       "[]"
      ]
     },
     "execution_count": 11,
     "metadata": {},
     "output_type": "execute_result"
    }
   ],
   "source": [
    "results=cur.execute('select employeeNumber,lastName,firstName from Employees')\n",
    "results.fetchall()"
   ]
  },
  {
   "cell_type": "markdown",
   "id": "2660e27a",
   "metadata": {},
   "source": [
    "## SQL query to show all orderNumber, customerName of the person who placed the respective order.\n"
   ]
  },
  {
   "cell_type": "code",
   "execution_count": 12,
   "id": "2a474435",
   "metadata": {},
   "outputs": [
    {
     "data": {
      "text/plain": [
       "[]"
      ]
     },
     "execution_count": 12,
     "metadata": {},
     "output_type": "execute_result"
    }
   ],
   "source": [
    "results=cur.execute('select Orders.orderNumber, Customers.customerName from Orders inner join Customers on Orders.customerNumber=Customers.customerNumber')\n",
    "results.fetchall()"
   ]
  },
  {
   "cell_type": "markdown",
   "id": "3d4824d3",
   "metadata": {},
   "source": [
    "## SQL query to show name of all the customers in one column and salerepemployee name in another column.\n"
   ]
  },
  {
   "cell_type": "code",
   "execution_count": 13,
   "id": "75fcccb0",
   "metadata": {},
   "outputs": [
    {
     "data": {
      "text/plain": [
       "[]"
      ]
     },
     "execution_count": 13,
     "metadata": {},
     "output_type": "execute_result"
    }
   ],
   "source": [
    "results=cur.execute('select customerName,salesRepEmployeeNumber from Customers')\n",
    "results.fetchall()"
   ]
  },
  {
   "cell_type": "markdown",
   "id": "8f4178fc",
   "metadata": {},
   "source": [
    "## SQL query to show Date in one column and total payment amount of the payments made on that date from the payments table.\n"
   ]
  },
  {
   "cell_type": "code",
   "execution_count": 14,
   "id": "0efe9122",
   "metadata": {},
   "outputs": [
    {
     "data": {
      "text/plain": [
       "<sqlite3.Cursor at 0x1e7565b7f80>"
      ]
     },
     "execution_count": 14,
     "metadata": {},
     "output_type": "execute_result"
    }
   ],
   "source": [
    "cur.execute(\"create table Payments (customerNumber int primary key,checknumber int,paymentDate date,amount real)\")\n"
   ]
  },
  {
   "cell_type": "code",
   "execution_count": 15,
   "id": "9cba8e2d",
   "metadata": {},
   "outputs": [
    {
     "data": {
      "text/plain": [
       "[(None, None)]"
      ]
     },
     "execution_count": 15,
     "metadata": {},
     "output_type": "execute_result"
    }
   ],
   "source": [
    "results=cur.execute('select paymentDate,sum(amount) from Payments')\n",
    "results.fetchall()\n"
   ]
  },
  {
   "cell_type": "markdown",
   "id": "593372dd",
   "metadata": {},
   "source": [
    "## SQL query to show all the products productName, MSRP, productDescription from the products table.\n"
   ]
  },
  {
   "cell_type": "code",
   "execution_count": 16,
   "id": "137e38a9",
   "metadata": {},
   "outputs": [
    {
     "data": {
      "text/plain": [
       "<sqlite3.Cursor at 0x1e7565b7f80>"
      ]
     },
     "execution_count": 16,
     "metadata": {},
     "output_type": "execute_result"
    }
   ],
   "source": [
    "cur.execute(\"create table Products (productCode int primary key,productName text,productLine text,productScale text,productVendor text,productDescription text,quantityInStock int,buyPrice real,MSRP real)\")\n"
   ]
  },
  {
   "cell_type": "code",
   "execution_count": 17,
   "id": "b29ab2d2",
   "metadata": {},
   "outputs": [
    {
     "data": {
      "text/plain": [
       "[]"
      ]
     },
     "execution_count": 17,
     "metadata": {},
     "output_type": "execute_result"
    }
   ],
   "source": [
    "results=cur.execute('select productName,MSRP,productDescription from Products')\n",
    "results.fetchall()"
   ]
  },
  {
   "cell_type": "markdown",
   "id": "b3511eb6",
   "metadata": {},
   "source": [
    "## SQL query to print the productName, productDescription of the most ordered product.\n"
   ]
  },
  {
   "cell_type": "code",
   "execution_count": 18,
   "id": "9497c03a",
   "metadata": {},
   "outputs": [
    {
     "data": {
      "text/plain": [
       "<sqlite3.Cursor at 0x1e7565b7f80>"
      ]
     },
     "execution_count": 18,
     "metadata": {},
     "output_type": "execute_result"
    }
   ],
   "source": [
    "cur.execute(\"create table Orderdetails (orderNumber int primary key,productCode int,quantityOrdered int,priceEach real,orderLineNumber int)\")\n"
   ]
  },
  {
   "cell_type": "code",
   "execution_count": 19,
   "id": "68a22592",
   "metadata": {},
   "outputs": [
    {
     "data": {
      "text/plain": [
       "[]"
      ]
     },
     "execution_count": 19,
     "metadata": {},
     "output_type": "execute_result"
    }
   ],
   "source": [
    "results=cur.execute('select Products.productName, Products.productDescription from Products inner join Orderdetails on Products.productCode=Orderdetails.productCode')\n",
    "results.fetchall()\n"
   ]
  },
  {
   "cell_type": "markdown",
   "id": "d6e53c00",
   "metadata": {},
   "source": [
    "## SQL query to print the city name where maximum number of orders were placed.\n"
   ]
  },
  {
   "cell_type": "code",
   "execution_count": 20,
   "id": "c299095a",
   "metadata": {},
   "outputs": [
    {
     "data": {
      "text/plain": [
       "[]"
      ]
     },
     "execution_count": 20,
     "metadata": {},
     "output_type": "execute_result"
    }
   ],
   "source": [
    "results=cur.execute('select Orderdetails.orderNumber,Orders.customerNumber,Customers.city from Orderdetails join Orders on Orderdetails.orderNumber=Orders.orderNumber join Customers on Customers.customerNumber=Orders.customerNumber ')\n",
    "results.fetchall()"
   ]
  },
  {
   "cell_type": "markdown",
   "id": "d368cb87",
   "metadata": {},
   "source": [
    "## SQL query to get the name of the state having maximum number of customers.\n"
   ]
  },
  {
   "cell_type": "code",
   "execution_count": 21,
   "id": "63fbf60d",
   "metadata": {},
   "outputs": [
    {
     "data": {
      "text/plain": [
       "[(None, None)]"
      ]
     },
     "execution_count": 21,
     "metadata": {},
     "output_type": "execute_result"
    }
   ],
   "source": [
    "results=cur.execute('select max(state),customerName from Customers')\n",
    "results.fetchall()"
   ]
  },
  {
   "cell_type": "markdown",
   "id": "b83c9bdc",
   "metadata": {},
   "source": [
    "## SQL query to print the employee number in one column and Full name of the employee in the second column for all the employees.\n"
   ]
  },
  {
   "cell_type": "code",
   "execution_count": 22,
   "id": "52189855",
   "metadata": {},
   "outputs": [
    {
     "data": {
      "text/plain": [
       "[]"
      ]
     },
     "execution_count": 22,
     "metadata": {},
     "output_type": "execute_result"
    }
   ],
   "source": [
    "results=cur.execute('select employeeNumber,firstname+\" \"+lastName as \"fullName\" from Employees')\n",
    "results.fetchall()\n"
   ]
  },
  {
   "cell_type": "markdown",
   "id": "f58a6de9",
   "metadata": {},
   "source": [
    "## SQL query to print the orderNumber, customer Name and total amount paid by the customer for that order (quantityOrdered × priceEach).\n"
   ]
  },
  {
   "cell_type": "code",
   "execution_count": 23,
   "id": "f1b62f08",
   "metadata": {},
   "outputs": [
    {
     "data": {
      "text/plain": [
       "[]"
      ]
     },
     "execution_count": 23,
     "metadata": {},
     "output_type": "execute_result"
    }
   ],
   "source": [
    "results=cur.execute('select Orders.orderNumber,Customers.customerName,Payments.amount from Orders join Customers on Orders.customerNumber=Customers.customerNumber join Payments on Payments.customerNumber=Customers.customerNumber ')\n",
    "results.fetchall()\n"
   ]
  },
  {
   "cell_type": "code",
   "execution_count": null,
   "id": "aa93caec",
   "metadata": {},
   "outputs": [],
   "source": []
  }
 ],
 "metadata": {
  "kernelspec": {
   "display_name": "Python 3 (ipykernel)",
   "language": "python",
   "name": "python3"
  },
  "language_info": {
   "codemirror_mode": {
    "name": "ipython",
    "version": 3
   },
   "file_extension": ".py",
   "mimetype": "text/x-python",
   "name": "python",
   "nbconvert_exporter": "python",
   "pygments_lexer": "ipython3",
   "version": "3.9.12"
  }
 },
 "nbformat": 4,
 "nbformat_minor": 5
}
